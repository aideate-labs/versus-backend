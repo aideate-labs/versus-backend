{
 "cells": [
  {
   "cell_type": "code",
   "execution_count": 1,
   "id": "f458ab21-7c8d-4001-83f2-fa29b33bfafc",
   "metadata": {},
   "outputs": [],
   "source": [
    "import streamlit as st\n",
    "import pandas as pd\n",
    "import numpy as np"
   ]
  },
  {
   "cell_type": "code",
   "execution_count": 68,
   "id": "e07ba617-a8db-4e71-ae52-221ec08e8e7f",
   "metadata": {},
   "outputs": [],
   "source": [
    "# Set page to wide mode\n",
    "st.set_page_config(layout=\"wide\")\n",
    "\n",
    "\n"
   ]
  },
  {
   "cell_type": "code",
   "execution_count": 69,
   "id": "c9224aad-bb91-4512-9de9-040eece53dbc",
   "metadata": {},
   "outputs": [
    {
     "data": {
      "text/plain": [
       "DeltaGenerator()"
      ]
     },
     "execution_count": 69,
     "metadata": {},
     "output_type": "execute_result"
    }
   ],
   "source": [
    "st.title(\"Streamlit 101\")\n",
    "st.markdown(\"\\n\")\n",
    "\n",
    "title = st.text_input('Question', 'Ask a question...')\n",
    "st.markdown(\"\\n\")\n",
    "st.markdown(\"\\n\")\n"
   ]
  },
  {
   "cell_type": "code",
   "execution_count": 70,
   "id": "81764739-75a1-40fc-813c-0532dde1edc2",
   "metadata": {},
   "outputs": [],
   "source": [
    "table1 = \"\"\"| Comparison Factors | Kinesis Freestyle2      | Logitech Ergo K860      | Microsoft Sculpt        | Logitech K350      | Perixx Periboard-512    | Cloud Nine ErgoTKL      | Kinesis Freestyle Edge RGB | Keychron Q11          |\n",
    "| ----------------- | ----------------------- | ----------------------- | ----------------------- | ------------------ | ----------------------- | ----------------------- | -------------------------- | --------------------- |\n",
    "| Price             | $134 at Amazon          | $126 at Amazon          | $330 at Amazon          | $36 at Best Buy    | $50 at Amazon           | $179.99 at Amazon       | $199 at Amazon             | $224.99 at Amazon     |\n",
    "| Type              | Split                   | Curved unibody          | Curved unibody          | Wave unibody       | Split                   | Split                   | Split mechanical           | Split                 |\n",
    "| Connection        | Wired                   | Wireless, wired         | Wireless                | Wireless           | Wired                   | Wired                   | Wired                      | Wired                 |\n",
    "| Power             | USB                     | 2 AA batteries          | 3 lithium-ion batteries | 2 AAA batteries    | Cable                   | Via cable               | Via cable                  | Via cable             |\n",
    "| Extra Features    | None                    | Adjustable legs,        | Separate number pad     | Customizable keys  | Laser-printed keys,     | RGB lighting, USB       | RGB per-key lighting       | Hot-swappable key     |\n",
    "|                   |                         | built-in wrist rest     |                         |                    | multimedia keys         | passthrough             |                            | switches              |\n",
    "| Pros              | Extremely comfortable,  | Smooth keys, adjustable | Elegant look,           | Lots of extra      | Comfortable, multimedia | Comfortable, bright     | True Cherry MX switches,   | Attractive design,    |\n",
    "|                   | adjustable shape        | wrist position for      | comfortable, separate   | customizable keys  | keys                    | lighting, mechanical    | ergonomic design           | programmable keys     |\n",
    "|                   |                         | different heights       | number pad              |                    |                         | key switches            |                            |                       |\n",
    "| Cons              | No lighting, not        | Wrist rest is attached; | Shallow keys            | Feels cheaply made | Takes up a lot of desk  | Split design takes some | Steep learning curve,      | Expensive, no angled  |\n",
    "|                   | particularly attractive | if fabric wears, you’re |                         |                    | space                   | getting used to,        | optional lift kit costs    | feet, wrist rest sold |\n",
    "|                   |                         | out of luck             |                         |                    |                         | Windows-only software   | extra                      | separately            |\"\"\""
   ]
  },
  {
   "cell_type": "code",
   "execution_count": 71,
   "id": "c99bb730-c1f1-4a5e-9c92-cce13110c303",
   "metadata": {},
   "outputs": [],
   "source": [
    "table2 = \"\"\"| Comparison Factors            | ZSA Voyager                | Kinesis Freestyle2                 | Logitech Ergo K860              | Microsoft Sculpt                 | Perixx Periboard-512           |\n",
    "|-------------------------------|----------------------------|-----------------------------------|---------------------------------|---------------------------------|--------------------------------|\n",
    "| **Price**                     | Around $365                | $89 - $134                        | $119 - $126                     | $60 - $330                      | Around $36                     |\n",
    "| **Type**                      | Ergonomic Mechanical Split Keyboard | Ergonomic Split Keyboard          | Ergonomic Keyboard               | Ergonomic Split Keyboard        | Ergonomic Split Keyboard       |\n",
    "| **Design**                    | Low-profile, split, highly customizable, laptop-friendly | Split design with up to 9 or 20 inches separation, Windows layout | Long typing sessions, built-in wrist rest, varied tilt legs | Comfortable typing, cushioned palm rest, domed shape to reduce wrist pronation | Inexpensive split design, supports varied finger lengths, wave design |\n",
    "| **Key Layout**                | 52-key compact layout, columnar layout for ease of reach | Standard layout with VIP3 lifters for tenting | Standard layout with integrated palm rest | Cushioned palm rest, separate number pad included | Wave design, supports varied finger lengths |\n",
    "| **Customization**             | Oryx software for key remapping, choice of keycaps and Kailh Choc switches, LED lighting | VIP3 lifters for adjustable angles and comfort | Adjustable tilt legs, smooth keys | Elegant look, comfortable form | Customizable keys, multimedia keys |\n",
    "| **Portability**               | Designed for portability, slim form factor | Not specifically designed for portability | Not specifically designed for portability | Not specifically designed for portability | Not specifically designed for portability |\n",
    "| **Accessories**               | Carrying case, extra keycaps, USB-C cables, USB-C to USB-A dongle, TRRS headphone cable | N/A                                   | N/A                                   | Separate number pad as a bonus accessory | Multimedia keys at the top      |\n",
    "| **Warranty**                  | Two-year warranty          | Variable based on retailer        | Variable based on retailer      | Variable based on retailer      | Variable based on retailer      |\n",
    "| **Ergonomic Features**        | Reduces muscle strain, customizable tenting legs | Split design allows for natural arm and hand position | Built-in wrist rest, adjustable position | Domed shape reduces wrist pronation, cushioned palm rest | Wave design mimics natural finger length |\n",
    "| **Connection**                | USB-C                      | Wired USB                         | Wireless and wired, 2 AA batteries | Wireless, 3 lithium-ion batteries | Wired                         |\n",
    "| **Availability**              | Direct purchase from ZSA, ships in approx. three weeks | Available on various retailers such as Amazon | Available on various retailers such as Amazon, Walmart, B&H Photo | Available on various retailers such as Amazon, B&H Photo, QVC | Available on various retailers such as Best Buy, Walmart, B&H Photo |\n",
    "| **Customizable Lighting**     | Per-key RGB LED lighting    | None                              | None                              | None                              | None                           |\n",
    "| **Market Focus**              | Global with direct shipping policies | Global, depending on shipping policies | Global, depending on shipping policies | Global, depending on shipping policies | Global, depending on shipping policies |\n",
    "| **Key Switches**              | Four low-profile mechanical switch types offered | Membrane switches compatible with low-force keys | Mechanical switches | Membrane switches | Mechanical switches            |\n",
    "| **Travel Compatibility**      | Specifically designed for travel with a laptop | Can be adapted with separable halves | Not specifically designed for travel | Not specifically designed for travel | Not specifically designed for travel |\n",
    "| **OS Compatibility**          | Mac, Windows, Linux         | Mac, Windows                      | Mac, Windows                     | Windows                           | Most operating systems         |\n",
    "| **Community and Support**     | Active community, layout tours, robust support | Robust support and community resources | Well-known brand with strong support | Well-known brand with strong support | Known for its budget value and support |\n",
    "| **Overall Value Proposition** | Premium product aimed at reducing repetitive strain, customizable for niche audience | Balance between customization and price for ergonomic benefit | Value for those requiring long session comfort | Business-oriented with aesthetic design | Budget-friendly split keyboard option |\n",
    "| **Hot Swappable Switches**    | Yes                         | No                                | No                                | No                                | No                             |\n",
    "| **Open Source Firmware**      | Yes, supports QMK           | Yes, supports QMK                 | No                                | No                                | No                             |\n",
    "| **Tenting Capabilities**      | Yes, with magnetic tenting legs | Yes, with VIP3 lifters            | Yes, fixed tilt, integrated wrist rest | Yes, domed design provides natural tenting | No                             |\n",
    "| **Material**                  | Low-profile with steel backplate, high-quality plastic | High-quality plastic with optional tenting lifters | High-quality plastic with integrated palm rest | High-quality plastic with cushioned palm rest | High-quality plastic          |\n",
    "| **Ortholinear**               | Yes, columnar layout       | No                                | No                                | No                                | No                             |\n",
    "| **Cylindrical Keycap Profile** | Not specified              | Yes                               | Yes                               | Yes                               | Yes                            |\n",
    "\"\"\""
   ]
  },
  {
   "cell_type": "code",
   "execution_count": 72,
   "id": "15c4fbf9-4d13-4f69-8f47-8fc77c9b32b8",
   "metadata": {},
   "outputs": [],
   "source": [
    "def markdown_to_dataframe(markdown):\n",
    "    # Split the table into lines\n",
    "    lines = markdown.strip().split(\"\\n\")\n",
    "    # Extract the headers\n",
    "    headers = [header.strip() for header in lines[0].split(\"|\")[1:-1]]\n",
    "    # Initialize a list to hold the row data\n",
    "    rows = []\n",
    "\n",
    "    # Process each row in the Markdown table\n",
    "    for line in lines[2:]:\n",
    "        # Extract the cells from the current row\n",
    "        cells = [cell.strip() for cell in line.split(\"|\")[1:-1]]\n",
    "        # Append the cells to the rows list as a tuple\n",
    "        rows.append(cells)\n",
    "    \n",
    "    # Convert the list of tuples into a DataFrame\n",
    "    df = pd.DataFrame(rows, columns=headers)\n",
    "    return df\n"
   ]
  },
  {
   "cell_type": "raw",
   "id": "5b9fae15-b364-4172-90e8-58e3e39e685f",
   "metadata": {},
   "source": [
    "def markdown_to_dataframe(markdown):\n",
    "    \n",
    "    # Split the markdown table into lines\n",
    "    lines = markdown.strip().split('\\n')\n",
    "    \n",
    "    # Extract column names\n",
    "    columns = [col.strip() for col in lines[0].split('|') if col.strip()]\n",
    "    \n",
    "    # Prepare a list to hold row data\n",
    "    data = []\n",
    "    \n",
    "    # Process each row in the markdown table\n",
    "    for line in lines[2:]:  # Skip the header and separator lines\n",
    "        # Split the line by \"|\" to get individual cell values\n",
    "        cells = [cell.strip() for cell in line.split('|') if cell.strip()]\n",
    "        # Append the cells to the data list\n",
    "        data.append(cells)\n",
    "    \n",
    "    # Create a DataFrame from the processed data\n",
    "    df_correct = pd.DataFrame(data, columns=columns)\n",
    "    \n",
    "    return df_correct"
   ]
  },
  {
   "cell_type": "code",
   "execution_count": 73,
   "id": "c2ae76b7-11b2-4330-af72-1968f6d516de",
   "metadata": {},
   "outputs": [
    {
     "data": {
      "text/plain": [
       "DeltaGenerator()"
      ]
     },
     "execution_count": 73,
     "metadata": {},
     "output_type": "execute_result"
    }
   ],
   "source": [
    "df1 = markdown_to_dataframe(table1)\n",
    "df2 = df1.set_index('Comparison Factors', drop=True)\n",
    "\n",
    "# Apply styling (e.g., set column width)\n",
    "#styled_df = df1.style.set_properties(**{'height': '900px', 'text-align': 'left'})\n",
    "\n",
    "# Estimate height: number_of_rows * pixel_height_per_row + a small margin\n",
    "estimated_height = len(df2) * 35 + 40  # Adjust 25 based on your row height\n",
    "\n",
    "st.dataframe(df2, height=estimated_height)"
   ]
  },
  {
   "cell_type": "code",
   "execution_count": null,
   "id": "004bdeed-501a-45ca-86dd-89f146332319",
   "metadata": {},
   "outputs": [],
   "source": []
  }
 ],
 "metadata": {
  "kernelspec": {
   "display_name": "Python 3 (ipykernel)",
   "language": "python",
   "name": "python3"
  },
  "language_info": {
   "codemirror_mode": {
    "name": "ipython",
    "version": 3
   },
   "file_extension": ".py",
   "mimetype": "text/x-python",
   "name": "python",
   "nbconvert_exporter": "python",
   "pygments_lexer": "ipython3",
   "version": "3.9.6"
  }
 },
 "nbformat": 4,
 "nbformat_minor": 5
}
